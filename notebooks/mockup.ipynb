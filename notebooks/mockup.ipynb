{
 "cells": [
  {
   "cell_type": "code",
   "execution_count": 79,
   "id": "b5c8645d-22f7-4260-a2b3-fa8941fd21e6",
   "metadata": {},
   "outputs": [],
   "source": [
    "import requests\n",
    "from collections import defaultdict\n",
    "import networkx as nx"
   ]
  },
  {
   "cell_type": "code",
   "execution_count": 14,
   "id": "df975713-3acd-42cd-a0a5-414a8f51c1f2",
   "metadata": {},
   "outputs": [],
   "source": [
    "def fetch_transactions(\n",
    "    address=\"vitalik.eth\", \n",
    "    start_block=0, \n",
    "    end_block=99999999, \n",
    "    api_key=\"key\",\n",
    "):\n",
    "    \"\"\"Fetch all transactions for a specific Ethereum address using the Etherscan API.\"\"\"\n",
    "    # url = \"https://api.etherscan.io/api\"\n",
    "    url = \"https://api-sepolia.etherscan.io/api\"\n",
    "    params = {\n",
    "        \"module\": \"account\",\n",
    "        \"action\": \"txlist\",\n",
    "        \"address\": address,\n",
    "        \"startblock\": start_block,\n",
    "        \"endblock\": end_block,\n",
    "        \"sort\": \"asc\",  # Sort by ascending order\n",
    "        \"apikey\": api_key\n",
    "    }\n",
    "\n",
    "    response = requests.get(url, params=params)\n",
    "    data = response.json()\n",
    "\n",
    "    # Check for errors in the response\n",
    "    if data[\"status\"] != \"1\":\n",
    "        raise Exception(f\"Error: {data['message']} - {data.get('result', '')}\")\n",
    "\n",
    "    return data[\"result\"]"
   ]
  },
  {
   "cell_type": "code",
   "execution_count": 42,
   "id": "61db6e77-64b9-4933-bdbd-7da264b04e71",
   "metadata": {},
   "outputs": [],
   "source": [
    "def filter_transactions(tx, direction=\"send\"):\n",
    "    if (direction == \"receive\" and tx['from'].lower() == address.lower()) \\\n",
    "    or (direction == \"send\" and tx['to'].lower() == address.lower()):\n",
    "        return tx\n",
    "    return False"
   ]
  },
  {
   "cell_type": "code",
   "execution_count": 17,
   "id": "3b4ceeb7-0c9d-4680-b6e6-e7d32e005844",
   "metadata": {},
   "outputs": [],
   "source": [
    "address = \"0x2461214FC9777705b962248104a58f52BF41B3db\"\n",
    "api_key = \"5G6782ZVFEXITQJ86SXA3PTBWRUZGQ74Q3\""
   ]
  },
  {
   "cell_type": "code",
   "execution_count": 62,
   "id": "6c236734-0d35-451a-8b2a-4687e361b3eb",
   "metadata": {},
   "outputs": [],
   "source": [
    "def ptx(tx):\n",
    "    def direction():\n",
    "        if tx['to'].lower() == address.lower():\n",
    "            return \"Received: \"\n",
    "        elif tx['from'].lower() == address.lower():\n",
    "            return \"Send    : \"\n",
    "        else:\n",
    "            return \"Value   : \"\n",
    "    print(\n",
    "        \"Hash: {}...{}, Block: {}, To: {}...{}, From: {}...{}, {}: {} ETH\".format(\n",
    "            tx['hash'][:4],\n",
    "            tx['hash'][-3:],\n",
    "            \n",
    "            tx['blockNumber'],\n",
    "            \n",
    "            tx['to'][:4],\n",
    "            tx['to'][-3:],\n",
    "            \n",
    "            tx['from'][:4],\n",
    "            tx['from'][-3:],\n",
    "            \n",
    "            direction(),\n",
    "            \n",
    "            int(tx['value']) / 1e18,\n",
    "        )\n",
    "    )"
   ]
  },
  {
   "cell_type": "code",
   "execution_count": 63,
   "id": "0981b302-c9eb-47e2-bbe4-cc533fadbbe1",
   "metadata": {},
   "outputs": [
    {
     "name": "stdout",
     "output_type": "stream",
     "text": [
      "Found 6 transactions:\n",
      "Hash: 0xb6...07f, Block: 7302265, To: 0x24...3db, From: 0x28...835, Received: : 0.2 ETH\n",
      "Hash: 0x88...bef, Block: 7302271, To: 0x7d...93d, From: 0x24...3db, Send    : : 0.1 ETH\n",
      "Hash: 0xde...79f, Block: 7302273, To: 0xf8...a39, From: 0x24...3db, Send    : : 0.04 ETH\n",
      "Hash: 0x6a...05d, Block: 7302273, To: 0x4e...dd8, From: 0x24...3db, Send    : : 0.04 ETH\n",
      "Hash: 0x78...338, Block: 7302292, To: 0x24...3db, From: 0x73...29c, Received: : 0.01 ETH\n",
      "Hash: 0x67...e7c, Block: 7302294, To: 0x24...3db, From: 0xf8...a39, Received: : 0.01 ETH\n"
     ]
    }
   ],
   "source": [
    "try:\n",
    "    transactions = fetch_transactions(address=address, start_block=0, end_block=99999999, api_key=api_key)\n",
    "    print(f\"Found {len(transactions)} transactions:\")\n",
    "    \n",
    "    for tx in transactions:  # Display first 5 transactions for brevity\n",
    "        ptx(tx)\n",
    "except Exception as e:\n",
    "    print(e)"
   ]
  },
  {
   "cell_type": "markdown",
   "id": "dcbae2ff-09a7-48db-a80b-182d3469e417",
   "metadata": {},
   "source": [
    "We need to set a maximum depth\n",
    "We also need to not loop, example:\n",
    "- A send to B, B send to C, C send to A\n",
    "\n",
    "We should diferenciate 3 different end of branch:\n",
    "- Reach a dead end (no out tx, or only tx that would loop)\n",
    "- Reach max depth\n",
    "- Loop to any sender from the branch"
   ]
  },
  {
   "cell_type": "code",
   "execution_count": null,
   "id": "58d3acae-4aff-4f20-b604-e11d8863f57a",
   "metadata": {},
   "outputs": [],
   "source": [
    "def verbose_address(address):\n",
    "    return f\"{address[:4]}...{address[-3:]}\""
   ]
  },
  {
   "cell_type": "code",
   "execution_count": null,
   "id": "af8ec2db-71bc-4845-aa25-3b3ddb3eddd0",
   "metadata": {},
   "outputs": [],
   "source": [
    "def build_graph(graph, address, direction, max_depth, current_depth=0, visited=set()):\n",
    "    print(\"Calling build_graph\")\n",
    "    if current_depth >= max_depth or address in visited:\n",
    "        print(\"Max depth or address visited\")\n",
    "        return  # End branch\n",
    "\n",
    "    # visited.add(address)  # Mark the address as visited\n",
    "\n",
    "    # Fetch transactions for this address\n",
    "    txs = fetch_transactions(address, api_key=api_key)\n",
    "    # print(f\"Found {len(txs)} txs visiting address {address[:4]}...{address[-3:]}\")\n",
    "\n",
    "    # If no transactions, end branch\n",
    "    if not txs:\n",
    "        print(\"No tx\")\n",
    "        return\n",
    "\n",
    "    for tx in txs:\n",
    "        ptx(tx)\n",
    "        # if filtered_tx := filter_transactions(tx):\n",
    "        receiver = tx[\"to\"]  # Adjust based on direction\n",
    "        if receiver != address:\n",
    "            # graph[address].append(receiver)\n",
    "            graph.add_edge(verbose_address(address), verbose_address(receiver))\n",
    "        else:\n",
    "            visited.add(address)  # Mark the address as visited\n",
    "        # Recursively build the graph for the receiver\n",
    "        build_graph(graph, receiver, direction, max_depth, current_depth + 1, visited)"
   ]
  },
  {
   "cell_type": "code",
   "execution_count": 25,
   "id": "4459331d-8757-475d-9b59-cfe40670b0c0",
   "metadata": {},
   "outputs": [],
   "source": [
    "# Initialize graph\n",
    "graph = defaultdict(list)\n",
    "\n",
    "# Start building the graph\n",
    "build_graph(address, \"send\", 3)"
   ]
  },
  {
   "cell_type": "code",
   "execution_count": null,
   "id": "dbc6c635-cd48-4189-ba86-d4f72226eefc",
   "metadata": {},
   "outputs": [],
   "source": [
    "G = nx.DiGraph()  # Directed graph\n",
    "build_graph(G, address, \"send\", 5)"
   ]
  },
  {
   "cell_type": "code",
   "execution_count": null,
   "id": "503ce322-d43c-41dd-8e33-664483d93d79",
   "metadata": {},
   "outputs": [],
   "source": [
    "nx.draw(G, with_labels=True)"
   ]
  },
  {
   "cell_type": "code",
   "execution_count": null,
   "id": "be71b50f-eb91-4c5a-becb-2110339fb715",
   "metadata": {},
   "outputs": [],
   "source": []
  }
 ],
 "metadata": {
  "kernelspec": {
   "display_name": "Python 3 (ipykernel)",
   "language": "python",
   "name": "python3"
  },
  "language_info": {
   "codemirror_mode": {
    "name": "ipython",
    "version": 3
   },
   "file_extension": ".py",
   "mimetype": "text/x-python",
   "name": "python",
   "nbconvert_exporter": "python",
   "pygments_lexer": "ipython3",
   "version": "3.12.3"
  }
 },
 "nbformat": 4,
 "nbformat_minor": 5
}
